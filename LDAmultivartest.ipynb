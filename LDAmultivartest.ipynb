{
  "cells": [
    {
      "cell_type": "code",
      "source": "!pip install metrics==0.3.3",
      "metadata": {
        "tags": [],
        "cell_id": "00000-323e9a0e-713d-4f98-a266-4ca80e167f04",
        "deepnote_to_be_reexecuted": false,
        "source_hash": "1f90a453",
        "execution_millis": 7070,
        "execution_start": 1618321275020,
        "deepnote_cell_type": "code"
      },
      "outputs": [
        {
          "name": "stdout",
          "text": "Requirement already satisfied: metrics==0.3.3 in /root/venv/lib/python3.7/site-packages (0.3.3)\nRequirement already satisfied: pathlib2>=2.3.0 in /root/venv/lib/python3.7/site-packages (from metrics==0.3.3) (2.3.5)\nRequirement already satisfied: pathspec==0.5.5 in /root/venv/lib/python3.7/site-packages (from metrics==0.3.3) (0.5.5)\nCollecting Pygments==2.2.0\n  Using cached Pygments-2.2.0-py2.py3-none-any.whl (841 kB)\nRequirement already satisfied: six in /shared-libs/python3.7/py-core/lib/python3.7/site-packages (from pathlib2>=2.3.0->metrics==0.3.3) (1.15.0)\nInstalling collected packages: Pygments\n  Attempting uninstall: Pygments\n    Found existing installation: Pygments 2.8.1\n    Not uninstalling pygments at /shared-libs/python3.7/py-core/lib/python3.7/site-packages, outside environment /root/venv\n    Can't uninstall 'Pygments'. No files were found to uninstall.\n\u001b[31mERROR: pip's dependency resolver does not currently take into account all the packages that are installed. This behaviour is the source of the following dependency conflicts.\nnbconvert 6.0.7 requires pygments>=2.4.1, but you have pygments 2.2.0 which is incompatible.\njupyterlab-pygments 0.1.2 requires pygments<3,>=2.4.1, but you have pygments 2.2.0 which is incompatible.\u001b[0m\nSuccessfully installed Pygments-2.2.0\n",
          "output_type": "stream"
        }
      ],
      "execution_count": 1
    },
    {
      "cell_type": "code",
      "metadata": {
        "tags": [],
        "cell_id": "00000-2dc28034-fef3-4dd8-b1d2-6f293ec5e83e",
        "deepnote_to_be_reexecuted": false,
        "source_hash": "52f1e579",
        "execution_millis": 2134,
        "execution_start": 1618321282125,
        "deepnote_cell_type": "code"
      },
      "source": "import numpy as np \nimport pandas as pd \nimport time\nfrom sklearn.discriminant_analysis import LinearDiscriminantAnalysis\nfrom sklearn.metrics import precision_recall_fscore_support, f1_score\nfrom metrics import accuracy\nfrom metrics import confusion_matrix\nfrom metrics import precision_and_recall\nfrom metrics import micro_average_f1_score\nfrom metrics import macro_average_f1_score\nfrom metrics import false_positive_ratio\n\nnp.random.seed(42) #seed for repeatable results\ndf=pd.read_csv('MobilePricingUpdated.csv') #Importing the preprocessed dataset\nxs=df.drop(['price_range'], axis=1).to_numpy() #all the numerical data that will be use to predict\nys=df['price_range'].to_numpy() #The target variable\n\n#forming the train and test data split, through index arrays\nindex_array=np.arange(len(ys))\ntrain_index_array = index_array[:int(len(index_array) * 0.8)]\ntest_index_array = index_array[int(len(index_array) * 0.8):]\n# get train and test subsets\nx_train = xs[train_index_array]\ny_train = ys[train_index_array]\nx_test = xs[test_index_array]\ny_test = ys[test_index_array]\n\nlda = LinearDiscriminantAnalysis()\n\nlda = lda.fit(x_train,y_train)\ny_pred_LDA = lda.predict(x_test)\n\n\nprint(\"Accuracy:\",metrics.accuracy_score(y_test, y_pred_LDA))\n\n\n#5 metrics (Accuracy, confusion Matrix, precision, recall and f1 (both types))\nacc = accuracy(y_pred_LDA, y_test) #computes accuracy\ncm = confusion_matrix(y_test, y_pred_LDA) #computes test confusion matrix\nprm = precision_and_recall(cm) #computes precision and recall and represents the in a matrix\nmicro_f1 = micro_average_f1_score(cm) #Micro f1, uses the global precision and recall (prone to imbalanced datasets)\nmacro_f1 = macro_average_f1_score(prm) #Macro f1, uses the average of individual classes' precision and recalls (better for imbalanced datasets)\nprint(\"Accuracy on Test set:\", acc)\nprint(\"Confusion Matrix:\\n\", cm)\nprint(\"Precision and Recall Matrix: \\n:\", prm)\nprint(\"Micro-average F1 Score:\", micro_f1)\nprint(\"Macro-average F1 Score:\", macro_f1)\nprint(\"Time Taken:\", time.process_time()-start) #time taken to compute all of it",
      "execution_count": 2,
      "outputs": [
        {
          "output_type": "error",
          "ename": "ImportError",
          "evalue": "cannot import name 'accuracy' from 'metrics' (/root/venv/lib/python3.7/site-packages/metrics/__init__.py)",
          "traceback": [
            "\u001b[0;31m---------------------------------------------------------------------------\u001b[0m",
            "\u001b[0;31mImportError\u001b[0m                               Traceback (most recent call last)",
            "\u001b[0;32m<ipython-input-2-72dce9213300>\u001b[0m in \u001b[0;36m<module>\u001b[0;34m\u001b[0m\n\u001b[1;32m      4\u001b[0m \u001b[0;32mfrom\u001b[0m \u001b[0msklearn\u001b[0m\u001b[0;34m.\u001b[0m\u001b[0mdiscriminant_analysis\u001b[0m \u001b[0;32mimport\u001b[0m \u001b[0mLinearDiscriminantAnalysis\u001b[0m\u001b[0;34m\u001b[0m\u001b[0;34m\u001b[0m\u001b[0m\n\u001b[1;32m      5\u001b[0m \u001b[0;32mfrom\u001b[0m \u001b[0msklearn\u001b[0m\u001b[0;34m.\u001b[0m\u001b[0mmetrics\u001b[0m \u001b[0;32mimport\u001b[0m \u001b[0mprecision_recall_fscore_support\u001b[0m\u001b[0;34m,\u001b[0m \u001b[0mf1_score\u001b[0m\u001b[0;34m\u001b[0m\u001b[0;34m\u001b[0m\u001b[0m\n\u001b[0;32m----> 6\u001b[0;31m \u001b[0;32mfrom\u001b[0m \u001b[0mmetrics\u001b[0m \u001b[0;32mimport\u001b[0m \u001b[0maccuracy\u001b[0m\u001b[0;34m\u001b[0m\u001b[0;34m\u001b[0m\u001b[0m\n\u001b[0m\u001b[1;32m      7\u001b[0m \u001b[0;32mfrom\u001b[0m \u001b[0mmetrics\u001b[0m \u001b[0;32mimport\u001b[0m \u001b[0mconfusion_matrix\u001b[0m\u001b[0;34m\u001b[0m\u001b[0;34m\u001b[0m\u001b[0m\n\u001b[1;32m      8\u001b[0m \u001b[0;32mfrom\u001b[0m \u001b[0mmetrics\u001b[0m \u001b[0;32mimport\u001b[0m \u001b[0mprecision_and_recall\u001b[0m\u001b[0;34m\u001b[0m\u001b[0;34m\u001b[0m\u001b[0m\n",
            "\u001b[0;31mImportError\u001b[0m: cannot import name 'accuracy' from 'metrics' (/root/venv/lib/python3.7/site-packages/metrics/__init__.py)"
          ]
        }
      ]
    },
    {
      "cell_type": "markdown",
      "source": "<a style='text-decoration:none;line-height:16px;display:flex;color:#5B5B62;padding:10px;justify-content:end;' href='https://deepnote.com?utm_source=created-in-deepnote-cell&projectId=79f06bb1-0941-455f-9c2f-d8cd230cca12' target=\"_blank\">\n<img alt='Created in deepnote.com' style='display:inline;max-height:16px;margin:0px;margin-right:7.5px;' src='data:image/svg+xml;base64,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' > </img>\nCreated in <span style='font-weight:600;margin-left:4px;'>Deepnote</span></a>",
      "metadata": {
        "tags": [],
        "created_in_deepnote_cell": true,
        "deepnote_cell_type": "markdown"
      }
    }
  ],
  "nbformat": 4,
  "nbformat_minor": 2,
  "metadata": {
    "orig_nbformat": 2,
    "deepnote": {
      "is_reactive": false
    },
    "deepnote_notebook_id": "5a62bf0b-1733-4ee0-8a5b-bd99b354e9c2",
    "deepnote_execution_queue": []
  }
}